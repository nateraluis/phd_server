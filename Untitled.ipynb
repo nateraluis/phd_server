{
 "cells": [
  {
   "cell_type": "code",
   "execution_count": 1,
   "metadata": {},
   "outputs": [],
   "source": [
    "import datetime\n",
    "import time\n",
    "import os\n",
    "import osmnx as ox\n",
    "import geopandas as gpd\n",
    "import pandas as pd\n",
    "import numpy as np\n",
    "import networkx as nx\n",
    "import matplotlib.pyplot as plt\n",
    "from descartes import PolygonPatch\n",
    "from shapely.geometry import Polygon, MultiPolygon"
   ]
  },
  {
   "cell_type": "code",
   "execution_count": 2,
   "metadata": {},
   "outputs": [],
   "source": [
    "start = time.time()\n",
    "ox.config(data_folder='../Data', logs_folder='../logs',\n",
    "          imgs_folder='../imgs', cache_folder='../cache',\n",
    "          use_cache=True, log_console=False, log_name='osmnx',\n",
    "          log_file=True, log_filename='osmnx')\n",
    "\n",
    "colors_layers = ['#e9c46a', '#e76f51', '#f4a261', '#264653']\n",
    "names = ['_walk', '_bike', '_rail', '_drive']\n",
    "now = datetime.datetime.now()"
   ]
  },
  {
   "cell_type": "code",
   "execution_count": 3,
   "metadata": {},
   "outputs": [],
   "source": [
    "cities = {'Phoenix': {'init': 'epsg:2763'},\n",
    "          'Detroit': {'init': 'epsg:2763'},\n",
    "          'Manhattan': {'init': 'epsg:2763'},\n",
    "          'Amsterdam': {'init': 'epsg:32633'},\n",
    "          'Mexico': {'init': 'epsg:6372'},\n",
    "          'London': {'init': 'epsg:32633'},\n",
    "          'Singapore': {'init': 'epsg:3414'},\n",
    "          'Budapest': {'init': 'epsg:32633'},\n",
    "          'Copenhagen': {'init': 'epsg:32633'},\n",
    "          'Barcelona': {'init': 'epsg:32633'},\n",
    "          'Portland': {'init': 'epsg:26949'},\n",
    "          'Bogota': {'init': 'epsg:3116'},\n",
    "          'LA': {'init': 'epsg:2763'},\n",
    "          'Jakarta': {'init': 'epsg:5331'}}"
   ]
  },
  {
   "cell_type": "code",
   "execution_count": 5,
   "metadata": {},
   "outputs": [],
   "source": [
    "%matplotlib inline"
   ]
  },
  {
   "cell_type": "code",
   "execution_count": 6,
   "metadata": {},
   "outputs": [
    {
     "data": {
      "text/plain": [
       "<matplotlib.collections.PathCollection at 0x7fefa7c18358>"
      ]
     },
     "execution_count": 6,
     "metadata": {},
     "output_type": "execute_result"
    },
    {
     "data": {
      "image/png": "[encoded data removed]",
      "text/plain": [
       "<Figure size 432x288 with 1 Axes>"
      ]
     },
     "metadata": {
      "needs_background": "light"
     },
     "output_type": "display_data"
    }
   ],
   "source": [
    "plt.scatter([i for i in range(1000)], [i**2 for i in range(1000)])"
   ]
  },
  {
   "cell_type": "code",
   "execution_count": 7,
   "metadata": {},
   "outputs": [
    {
     "data": {
      "text/plain": [
       "<Figure size 432x288 with 0 Axes>"
      ]
     },
     "metadata": {},
     "output_type": "display_data"
    }
   ],
   "source": [
    "plt.savefig('../imgs/test.png')"
   ]
  },
  {
   "cell_type": "code",
   "execution_count": null,
   "metadata": {},
   "outputs": [],
   "source": []
  }
 ],
 "metadata": {
  "kernelspec": {
   "display_name": "Python 3",
   "language": "python",
   "name": "python3"
  },
  "language_info": {
   "codemirror_mode": {
    "name": "ipython",
    "version": 3
   },
   "file_extension": ".py",
   "mimetype": "text/x-python",
   "name": "python",
   "nbconvert_exporter": "python",
   "pygments_lexer": "ipython3",
   "version": "3.7.0"
  }
 },
 "nbformat": 4,
 "nbformat_minor": 2
}
